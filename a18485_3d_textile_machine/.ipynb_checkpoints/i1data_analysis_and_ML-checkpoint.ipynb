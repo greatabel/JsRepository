{
 "cells": [
  {
   "cell_type": "markdown",
   "metadata": {},
   "source": [
    "# data anlysis and ML"
   ]
  },
  {
   "cell_type": "markdown",
   "metadata": {},
   "source": [
    "- 这是给出最佳结果的特征工程方法。\n",
    "- 我们已将“RECOVERING”类视为“BROKEN”类，并且我们确实继续创建滚动窗口。\n",
    "- 我们使用 10 分钟的窗口大小，并且我们在 5 分钟前预测了所有失败。\n",
    "- 对于某些故障，我们会在 20 分钟前收到警告，最好尽快收到故障警告。"
   ]
  },
  {
   "cell_type": "code",
   "execution_count": 86,
   "metadata": {},
   "outputs": [],
   "source": [
    "import numpy as np\n",
    "import pandas as pd\n",
    "from tqdm.notebook import tqdm\n",
    "import matplotlib.pyplot as plt\n",
    "import seaborn as sns\n",
    "import os\n",
    "import pickle\n",
    "from sklearn.metrics import roc_auc_score"
   ]
  },
  {
   "cell_type": "code",
   "execution_count": 87,
   "metadata": {},
   "outputs": [
    {
     "name": "stdout",
     "output_type": "stream",
     "text": [
      "   Unnamed: 0            timestamp  sensor_00  sensor_01  sensor_02  \\\n",
      "0           0  2021-04-01 00:00:00   2.465394   47.09201    53.2118   \n",
      "1           1  2021-04-01 00:01:00   2.465394   47.09201    53.2118   \n",
      "2           2  2021-04-01 00:02:00   2.444734   47.35243    53.2118   \n",
      "\n",
      "   sensor_03  sensor_04  sensor_05  sensor_06  sensor_07  ...  sensor_43  \\\n",
      "0   46.31076   634.3750   76.45975   13.41146   16.13136  ...   41.92708   \n",
      "1   46.31076   634.3750   76.45975   13.41146   16.13136  ...   41.92708   \n",
      "2   46.39757   638.8889   73.54598   13.32465   16.03733  ...   41.66666   \n",
      "\n",
      "   sensor_44  sensor_45  sensor_46  sensor_47  sensor_48  sensor_49  \\\n",
      "0  39.641200   65.68287   50.92593  38.194440   157.9861   67.70834   \n",
      "1  39.641200   65.68287   50.92593  38.194440   157.9861   67.70834   \n",
      "2  39.351852   65.39352   51.21528  38.194443   155.9606   67.12963   \n",
      "\n",
      "   sensor_50  sensor_51  machine_status  \n",
      "0   243.0556   201.3889          NORMAL  \n",
      "1   243.0556   201.3889          NORMAL  \n",
      "2   241.3194   203.7037          NORMAL  \n",
      "\n",
      "[3 rows x 55 columns]\n",
      "all class labels: ['NORMAL' 'BROKEN' 'RECOVERING']\n",
      "\n",
      "\n",
      " dataset length= 220147\n"
     ]
    }
   ],
   "source": [
    "data=pd.read_csv('data/combine_sensors/sensor.csv')\n",
    "print(data.head(3))\n",
    "print('all class labels:',data['machine_status'].unique())\n",
    "print('\\n\\n dataset length=', len(data))"
   ]
  },
  {
   "cell_type": "markdown",
   "metadata": {},
   "source": [
    "### 统计和分析卷曲结构传感器报告失败日期和恢复时间"
   ]
  },
  {
   "cell_type": "code",
   "execution_count": 88,
   "metadata": {},
   "outputs": [
    {
     "name": "stdout",
     "output_type": "stream",
     "text": [
      "for failure 1 at 2021-04-12 21:55:00, recovering time is 15.733333333333333 hours\n",
      "for failure 2 at 2021-04-18 00:30:00, recovering time is 51.833333333333336 hours\n",
      "for failure 3 at 2021-05-19 03:18:00, recovering time is 21.866666666666667 hours\n",
      "for failure 4 at 2021-05-25 00:30:00, recovering time is 10.083333333333334 hours\n",
      "for failure 5 at 2021-06-28 22:00:00, recovering time is 139.83333333333334 hours\n",
      "for failure 6 at 2021-07-08 00:11:00, recovering time is 0.6833333333333333 hours\n",
      "for failure 7 at 2021-07-25 14:00:00, recovering time is 1.25 hours\n"
     ]
    },
    {
     "name": "stderr",
     "output_type": "stream",
     "text": [
      "/Users/abel/Envs/samaritan0/lib/python3.8/site-packages/pandas/core/generic.py:8870: SettingWithCopyWarning: \n",
      "A value is trying to be set on a copy of a slice from a DataFrame\n",
      "\n",
      "See the caveats in the documentation: https://pandas.pydata.org/pandas-docs/stable/user_guide/indexing.html#returning-a-view-versus-a-copy\n",
      "  return self._update_inplace(result)\n"
     ]
    }
   ],
   "source": [
    "df_temp=data[['timestamp','machine_status']]\n",
    "df_temp['machine_status'][df_temp['machine_status']=='BROKEN']= 1\n",
    "df_temp['machine_status'][df_temp['machine_status']=='NORMAL']= 0\n",
    "df_temp['machine_status'][df_temp['machine_status']=='RECOVERING']= -1\n",
    "\n",
    "f=1\n",
    "for i in df_temp[df_temp['machine_status']==1].index:\n",
    "    j=i+1\n",
    "    temp=0\n",
    "    while df_temp['machine_status'][j] == -1:\n",
    "        temp=temp+1\n",
    "        j=j+1\n",
    "    print('for failure {0} at {2}, recovering time is {1} hours'.format(f,temp/60,df_temp['timestamp'][i]))\n",
    "    f=f+1"
   ]
  },
  {
   "cell_type": "markdown",
   "metadata": {},
   "source": [
    "# 特征工程\n",
    "- 我们使用滚动窗口方法来创建特征集，对于每个窗口，我们将采用最小值、最大值、标准偏差、中值和平均值。\n",
    "- 我们正在使用 10 个样本的窗口，并且我们会在故障发生前 5 分钟预测故障。\n",
    "- 我们使用 1 的窗口间距。\n",
    "- 如果样本像 s1,s2,s3.......那么第一个窗口是 s1 - s10，第二个应该是 s2-s11 等等。\n",
    "- 在这里，我们删除了所有不随类标签变化的传感器，我们在Exploratory data analysis阶段中找到了它。\n",
    "- 由于故障后出现恢复意味着恢复状态不是正常状态，因此我们将“RECOVERING”类视为“BROKEN”类并将其保留在数据集中。\n",
    "- 窗口是连续滚动窗口意味着，我们也不会像在之前的方法中那样删除数据集的任何部分，在之前的方法中我们删除了恢复状态，我们跳过了每个损坏的窗口以预测下一次故障。"
   ]
  },
  {
   "cell_type": "code",
   "execution_count": 89,
   "metadata": {},
   "outputs": [],
   "source": [
    "data.drop(['sensor_15','Unnamed: 0','sensor_01','sensor_03','sensor_14','sensor_16','sensor_17','sensor_18','sensor_19','sensor_20','sensor_21',\n",
    "           'sensor_22','sensor_23','sensor_24','sensor_25','sensor_26','sensor_27','sensor_28','sensor_29','sensor_30',\n",
    "           'sensor_31','sensor_33','sensor_34','sensor_37','sensor_36','sensor_48'],\n",
    "          inplace=True,axis=1) #droping unwanted feature"
   ]
  },
  {
   "cell_type": "markdown",
   "metadata": {},
   "source": [
    "## 填充 NA 值\n",
    "- 关于缺失的数据，我们需要进行填充\n",
    "- 我已经用特征的平均值填充了特定特征的所有 NA 值。\n",
    "- 我选择了 50% 的数据，然后找出填充 NA 的平均值，因为这 50% 的部分我们将用于训练"
   ]
  },
  {
   "cell_type": "code",
   "execution_count": 90,
   "metadata": {},
   "outputs": [
    {
     "data": {
      "application/vnd.jupyter.widget-view+json": {
       "model_id": "4f7be2b06e874e54bdbc66f529b14a8c",
       "version_major": 2,
       "version_minor": 0
      },
      "text/plain": [
       "  0%|          | 0/27 [00:00<?, ?it/s]"
      ]
     },
     "metadata": {},
     "output_type": "display_data"
    }
   ],
   "source": [
    "mean=data.iloc[0:int((data.shape[0]*50)/100)][data.columns[1:-1]].mean().values\n",
    "for i in tqdm(range(1,len(data.columns)-1)):\n",
    "    col=data.columns[i]\n",
    "    data[col]=data[col].fillna(mean[i-1])\n",
    "np.save(open('data/NA_replace','wb'),mean)# saving mean for to use in "
   ]
  },
  {
   "cell_type": "code",
   "execution_count": 91,
   "metadata": {},
   "outputs": [
    {
     "name": "stdout",
     "output_type": "stream",
     "text": [
      "我们用 0 替换普通类，将其他 2 类替换为 1 ####################\n"
     ]
    }
   ],
   "source": [
    "# 分类变量转化为数值变量\n",
    "\n",
    "print('我们用 0 替换普通类，将其他 2 类替换为 1', '#'*20)\n",
    "\n",
    "def map_fun(x):\n",
    "    if x=='NORMAL':\n",
    "        return 0\n",
    "    else:\n",
    "        return 1\n",
    "\n",
    "data['machine_status']=data.machine_status.map(map_fun)"
   ]
  },
  {
   "cell_type": "code",
   "execution_count": 92,
   "metadata": {},
   "outputs": [
    {
     "name": "stdout",
     "output_type": "stream",
     "text": [
      "创建数据框功能名称, 增加带数据统计功能列 方便后续处理\n"
     ]
    }
   ],
   "source": [
    "print('创建数据框功能名称, 增加带数据统计功能列 方便后续处理')\n",
    "columns=[]\n",
    "for col in data.columns[1:-1]:\n",
    "    columns.append('s{0}_median'.format(col[7:])) #to select sensor number\n",
    "    columns.append('s{0}_mean'.format(col[7:]))\n",
    "    columns.append('s{0}_std'.format(col[7:]))\n",
    "    columns.append('s{0}_min'.format(col[7:]))\n",
    "    columns.append('s{0}_max'.format(col[7:]))\n",
    "columns.append('machine_status')"
   ]
  },
  {
   "cell_type": "code",
   "execution_count": 93,
   "metadata": {},
   "outputs": [
    {
     "name": "stdout",
     "output_type": "stream",
     "text": [
      "-------------------- 创建滚动窗口功能 --------------------\n"
     ]
    }
   ],
   "source": [
    "print('-'*20, '创建滚动窗口功能', '-'*20)\n",
    "w=10\n",
    "\n",
    "X = []\n",
    "for i in data.columns[1:]:\n",
    "    X1,X2,X3,X4,X5,X6=[],[],[],[],[],[]\n",
    "    if not i =='machine_status':\n",
    "        X1.append(data[i].rolling(w).median()) \n",
    "        X2.append(data[i].rolling(w).mean())\n",
    "        X3.append(data[i].rolling(w).std())\n",
    "        X4.append(data[i].rolling(w).min())\n",
    "        X5.append(data[i].rolling(w).max())\n",
    "        fea_data = np.hstack([np.array(X1).reshape(-1,1),np.array(X2).reshape(-1,1),\\\n",
    "                       np.array(X3).reshape(-1,1),np.array(X4).reshape(-1,1),\\\n",
    "                       np.array(X5).reshape(-1,1)])\n",
    "    else:    \n",
    "        X6.append(data[i].rolling(w).max()) \n",
    "        fea_data=np.array(X6).reshape(-1,1)\n",
    "    X.append(fea_data)"
   ]
  },
  {
   "cell_type": "code",
   "execution_count": 94,
   "metadata": {},
   "outputs": [],
   "source": [
    "temp_data = X[0]\n",
    "for i in range(1,len(X)):\n",
    "    temp_data = np.hstack([temp_data, X[i]])\n",
    "\n",
    "data_df = pd.DataFrame(temp_data, columns=columns)"
   ]
  },
  {
   "cell_type": "code",
   "execution_count": 95,
   "metadata": {},
   "outputs": [],
   "source": [
    "data_df=data_df.loc[w-1:] #removing w-1 rows from start because that all are NAN, it happen because size of data frame same as-- \n",
    "#size of orignal data frame but, it should be w-1 less than orignal dataframe."
   ]
  },
  {
   "cell_type": "code",
   "execution_count": 96,
   "metadata": {},
   "outputs": [
    {
     "name": "stdout",
     "output_type": "stream",
     "text": [
      "我们将数据帧移动，因为我们想在几分钟前预测失败\n"
     ]
    }
   ],
   "source": [
    "print('我们将数据帧移动，因为我们想在几分钟前预测失败')\n",
    "temp1=data_df['machine_status'].iloc[w+w:].values\n",
    "temp2=data['timestamp'].iloc[w:-(w+w-1)].values\n",
    "data_df=data_df.iloc[:-(w+w)].copy()\n",
    "data_df['machine_status']=temp1\n",
    "data_df['timestamp']=temp2"
   ]
  },
  {
   "cell_type": "code",
   "execution_count": 97,
   "metadata": {},
   "outputs": [
    {
     "name": "stdout",
     "output_type": "stream",
     "text": [
      "保存数据预处理结果\n"
     ]
    }
   ],
   "source": [
    "print('保存数据预处理结果')\n",
    "data_df.to_csv('data/textile_finished.csv')"
   ]
  },
  {
   "cell_type": "markdown",
   "metadata": {},
   "source": [
    "# Machine Learning训练和预测\n"
   ]
  },
  {
   "cell_type": "code",
   "execution_count": 98,
   "metadata": {},
   "outputs": [],
   "source": [
    "import pandas as pd\n",
    "import numpy as np\n",
    "from sklearn.ensemble import RandomForestClassifier\n",
    "import seaborn as sns\n",
    "import matplotlib.pyplot as plt\n",
    "from sklearn.preprocessing import MinMaxScaler\n",
    "from tqdm.notebook import tqdm\n",
    "from sklearn.metrics import  recall_score, confusion_matrix\n",
    "from zipfile import ZipFile"
   ]
  },
  {
   "cell_type": "code",
   "execution_count": 99,
   "metadata": {},
   "outputs": [
    {
     "data": {
      "text/html": [
       "<div>\n",
       "<style scoped>\n",
       "    .dataframe tbody tr th:only-of-type {\n",
       "        vertical-align: middle;\n",
       "    }\n",
       "\n",
       "    .dataframe tbody tr th {\n",
       "        vertical-align: top;\n",
       "    }\n",
       "\n",
       "    .dataframe thead th {\n",
       "        text-align: right;\n",
       "    }\n",
       "</style>\n",
       "<table border=\"1\" class=\"dataframe\">\n",
       "  <thead>\n",
       "    <tr style=\"text-align: right;\">\n",
       "      <th></th>\n",
       "      <th>s00_median</th>\n",
       "      <th>s00_mean</th>\n",
       "      <th>s00_std</th>\n",
       "      <th>s00_min</th>\n",
       "      <th>s00_max</th>\n",
       "      <th>s02_median</th>\n",
       "      <th>s02_mean</th>\n",
       "      <th>s02_std</th>\n",
       "      <th>s02_min</th>\n",
       "      <th>s02_max</th>\n",
       "      <th>...</th>\n",
       "      <th>s50_std</th>\n",
       "      <th>s50_min</th>\n",
       "      <th>s50_max</th>\n",
       "      <th>s51_median</th>\n",
       "      <th>s51_mean</th>\n",
       "      <th>s51_std</th>\n",
       "      <th>s51_min</th>\n",
       "      <th>s51_max</th>\n",
       "      <th>machine_status</th>\n",
       "      <th>timestamp</th>\n",
       "    </tr>\n",
       "  </thead>\n",
       "  <tbody>\n",
       "    <tr>\n",
       "      <th>9</th>\n",
       "      <td>2.454572</td>\n",
       "      <td>2.454966</td>\n",
       "      <td>0.008337</td>\n",
       "      <td>2.444734</td>\n",
       "      <td>2.465394</td>\n",
       "      <td>53.1684</td>\n",
       "      <td>53.18576</td>\n",
       "      <td>0.022412</td>\n",
       "      <td>53.1684</td>\n",
       "      <td>53.2118</td>\n",
       "      <td>...</td>\n",
       "      <td>1.825207</td>\n",
       "      <td>240.162</td>\n",
       "      <td>246.5278</td>\n",
       "      <td>201.3889</td>\n",
       "      <td>201.64930</td>\n",
       "      <td>1.033864</td>\n",
       "      <td>200.2315</td>\n",
       "      <td>203.7037</td>\n",
       "      <td>0.0</td>\n",
       "      <td>2021-04-01 00:10:00</td>\n",
       "    </tr>\n",
       "    <tr>\n",
       "      <th>10</th>\n",
       "      <td>2.454572</td>\n",
       "      <td>2.454867</td>\n",
       "      <td>0.008205</td>\n",
       "      <td>2.444734</td>\n",
       "      <td>2.465394</td>\n",
       "      <td>53.1684</td>\n",
       "      <td>53.17708</td>\n",
       "      <td>0.027449</td>\n",
       "      <td>53.1250</td>\n",
       "      <td>53.2118</td>\n",
       "      <td>...</td>\n",
       "      <td>3.285012</td>\n",
       "      <td>240.162</td>\n",
       "      <td>250.8681</td>\n",
       "      <td>201.3889</td>\n",
       "      <td>201.50462</td>\n",
       "      <td>1.167013</td>\n",
       "      <td>199.9421</td>\n",
       "      <td>203.7037</td>\n",
       "      <td>0.0</td>\n",
       "      <td>2021-04-01 00:11:00</td>\n",
       "    </tr>\n",
       "    <tr>\n",
       "      <th>11</th>\n",
       "      <td>2.451621</td>\n",
       "      <td>2.452801</td>\n",
       "      <td>0.007854</td>\n",
       "      <td>2.444734</td>\n",
       "      <td>2.464410</td>\n",
       "      <td>53.1684</td>\n",
       "      <td>53.17274</td>\n",
       "      <td>0.024636</td>\n",
       "      <td>53.1250</td>\n",
       "      <td>53.2118</td>\n",
       "      <td>...</td>\n",
       "      <td>4.587768</td>\n",
       "      <td>240.162</td>\n",
       "      <td>253.1829</td>\n",
       "      <td>201.2442</td>\n",
       "      <td>201.38888</td>\n",
       "      <td>1.235168</td>\n",
       "      <td>199.9421</td>\n",
       "      <td>203.7037</td>\n",
       "      <td>0.0</td>\n",
       "      <td>2021-04-01 00:12:00</td>\n",
       "    </tr>\n",
       "    <tr>\n",
       "      <th>12</th>\n",
       "      <td>2.454572</td>\n",
       "      <td>2.454375</td>\n",
       "      <td>0.007632</td>\n",
       "      <td>2.444734</td>\n",
       "      <td>2.464410</td>\n",
       "      <td>53.1684</td>\n",
       "      <td>53.16406</td>\n",
       "      <td>0.024636</td>\n",
       "      <td>53.1250</td>\n",
       "      <td>53.2118</td>\n",
       "      <td>...</td>\n",
       "      <td>5.279667</td>\n",
       "      <td>240.162</td>\n",
       "      <td>253.1829</td>\n",
       "      <td>201.2442</td>\n",
       "      <td>201.24420</td>\n",
       "      <td>0.995350</td>\n",
       "      <td>199.9421</td>\n",
       "      <td>203.1250</td>\n",
       "      <td>0.0</td>\n",
       "      <td>2021-04-01 00:13:00</td>\n",
       "    </tr>\n",
       "    <tr>\n",
       "      <th>13</th>\n",
       "      <td>2.451621</td>\n",
       "      <td>2.453195</td>\n",
       "      <td>0.007495</td>\n",
       "      <td>2.444734</td>\n",
       "      <td>2.464410</td>\n",
       "      <td>53.1684</td>\n",
       "      <td>53.16406</td>\n",
       "      <td>0.024636</td>\n",
       "      <td>53.1250</td>\n",
       "      <td>53.2118</td>\n",
       "      <td>...</td>\n",
       "      <td>5.484062</td>\n",
       "      <td>240.162</td>\n",
       "      <td>253.1829</td>\n",
       "      <td>201.2442</td>\n",
       "      <td>201.21526</td>\n",
       "      <td>0.937092</td>\n",
       "      <td>199.9421</td>\n",
       "      <td>202.8356</td>\n",
       "      <td>0.0</td>\n",
       "      <td>2021-04-01 00:14:00</td>\n",
       "    </tr>\n",
       "  </tbody>\n",
       "</table>\n",
       "<p>5 rows × 137 columns</p>\n",
       "</div>"
      ],
      "text/plain": [
       "    s00_median  s00_mean   s00_std   s00_min   s00_max  s02_median  s02_mean  \\\n",
       "9     2.454572  2.454966  0.008337  2.444734  2.465394     53.1684  53.18576   \n",
       "10    2.454572  2.454867  0.008205  2.444734  2.465394     53.1684  53.17708   \n",
       "11    2.451621  2.452801  0.007854  2.444734  2.464410     53.1684  53.17274   \n",
       "12    2.454572  2.454375  0.007632  2.444734  2.464410     53.1684  53.16406   \n",
       "13    2.451621  2.453195  0.007495  2.444734  2.464410     53.1684  53.16406   \n",
       "\n",
       "     s02_std  s02_min  s02_max  ...   s50_std  s50_min   s50_max  s51_median  \\\n",
       "9   0.022412  53.1684  53.2118  ...  1.825207  240.162  246.5278    201.3889   \n",
       "10  0.027449  53.1250  53.2118  ...  3.285012  240.162  250.8681    201.3889   \n",
       "11  0.024636  53.1250  53.2118  ...  4.587768  240.162  253.1829    201.2442   \n",
       "12  0.024636  53.1250  53.2118  ...  5.279667  240.162  253.1829    201.2442   \n",
       "13  0.024636  53.1250  53.2118  ...  5.484062  240.162  253.1829    201.2442   \n",
       "\n",
       "     s51_mean   s51_std   s51_min   s51_max  machine_status  \\\n",
       "9   201.64930  1.033864  200.2315  203.7037             0.0   \n",
       "10  201.50462  1.167013  199.9421  203.7037             0.0   \n",
       "11  201.38888  1.235168  199.9421  203.7037             0.0   \n",
       "12  201.24420  0.995350  199.9421  203.1250             0.0   \n",
       "13  201.21526  0.937092  199.9421  202.8356             0.0   \n",
       "\n",
       "              timestamp  \n",
       "9   2021-04-01 00:10:00  \n",
       "10  2021-04-01 00:11:00  \n",
       "11  2021-04-01 00:12:00  \n",
       "12  2021-04-01 00:13:00  \n",
       "13  2021-04-01 00:14:00  \n",
       "\n",
       "[5 rows x 137 columns]"
      ]
     },
     "execution_count": 99,
     "metadata": {},
     "output_type": "execute_result"
    }
   ],
   "source": [
    "X=pd.read_csv('data/textile_finished.csv',index_col=0)\n",
    "X.head()"
   ]
  },
  {
   "cell_type": "markdown",
   "metadata": {},
   "source": [
    "## Train test split\n",
    "- 我们有时间数据，因此数据可能会随着时间而变化，那么结果也会有所不同。 因此，最好根据时间拆分我们的数据，例如为火车制作较旧的数据，为测试制作较新的数据。\n",
    "\n",
    "- 我们只有7个故障数据点，我们在 FE 部分中每个都制作了10个数据点，我们决定将 4 个数据点用于训练，2 个用于交叉验证，1 个用于测试。\n",
    "\n",
    "- 我们将 50% 的数据用于训练，25% 用于交叉验证和测试。"
   ]
  },
  {
   "cell_type": "code",
   "execution_count": 100,
   "metadata": {},
   "outputs": [
    {
     "name": "stdout",
     "output_type": "stream",
     "text": [
      "train shape: (110059, 137)\n",
      "cv shape: (55029, 137)\n",
      "test shape: (55030, 137)\n"
     ]
    }
   ],
   "source": [
    "X_train=X.iloc[0:int((X.shape[0]*50)/100)]\n",
    "X_cv=X.iloc[int((X.shape[0]*50)/100):int((X.shape[0]*75)/100)]\n",
    "X_test=X.iloc[int((X.shape[0]*75)/100):]\n",
    "print('train shape:',X_train.shape)\n",
    "print('cv shape:',X_cv.shape)\n",
    "print('test shape:',X_test.shape)"
   ]
  },
  {
   "cell_type": "markdown",
   "metadata": {},
   "source": [
    "## Checking for data leakage\n",
    "-  对于每个单一故障，我们有 10 分，因此有可能在train中放置一些点，而在交叉验证中放置一些属于单一故障的点。"
   ]
  },
  {
   "cell_type": "code",
   "execution_count": 101,
   "metadata": {},
   "outputs": [
    {
     "name": "stdout",
     "output_type": "stream",
     "text": [
      "train failure dates:\n",
      " dict_keys([datetime.date(2021, 4, 12), datetime.date(2021, 4, 13), datetime.date(2021, 4, 18), datetime.date(2021, 4, 19), datetime.date(2021, 4, 20), datetime.date(2021, 5, 19), datetime.date(2021, 5, 20), datetime.date(2021, 5, 25)])\n",
      "cv failure dates:\n",
      " dict_keys([datetime.date(2021, 6, 28), datetime.date(2021, 6, 29), datetime.date(2021, 6, 30), datetime.date(2021, 7, 1), datetime.date(2021, 7, 2), datetime.date(2021, 7, 3), datetime.date(2021, 7, 4), datetime.date(2021, 7, 7), datetime.date(2021, 7, 8)])\n"
     ]
    }
   ],
   "source": [
    "\n",
    "X_train_fail=X_train[X_train['machine_status']==1].copy()\n",
    "X_train_fail['timestamp']=pd.to_datetime(X_train_fail['timestamp'])\n",
    "g1=X_train_fail.groupby(by=X_train_fail['timestamp'].dt.date)\n",
    "print('train failure dates:\\n',g1.groups.keys())\n",
    "\n",
    "X_cv_fail=X_cv[X_cv['machine_status']==1].copy()\n",
    "X_cv_fail['timestamp']=pd.to_datetime(X_cv_fail['timestamp'])\n",
    "g2=X_cv_fail.groupby(by=X_cv_fail['timestamp'].dt.date)\n",
    "print('cv failure dates:\\n',g2.groups.keys())"
   ]
  },
  {
   "cell_type": "code",
   "execution_count": 102,
   "metadata": {},
   "outputs": [],
   "source": [
    "y_train = X_train['machine_status']\n",
    "X_train = X_train.drop(['machine_status'], axis=1)\n",
    "y_cv = X_cv['machine_status']\n",
    "X_cv = X_cv.drop(['machine_status'], axis=1)\n",
    "y_test = X_test['machine_status']\n",
    "X_test = X_test.drop(['machine_status'], axis=1)"
   ]
  },
  {
   "cell_type": "code",
   "execution_count": 103,
   "metadata": {},
   "outputs": [
    {
     "name": "stdout",
     "output_type": "stream",
     "text": [
      "训练集标签 总数:\n",
      " 0.0    104048\n",
      "1.0      6011\n",
      "Name: machine_status, dtype: int64\n",
      "交叉集标签 总数:\n",
      " 0.0    46578\n",
      "1.0     8451\n",
      "Name: machine_status, dtype: int64\n",
      "测试集标签 总数:\n",
      " 0.0    54945\n",
      "1.0       85\n",
      "Name: machine_status, dtype: int64\n"
     ]
    }
   ],
   "source": [
    "print('训练集标签 总数:\\n',y_train.value_counts())\n",
    "print('交叉集标签 总数:\\n',y_cv.value_counts())\n",
    "print('测试集标签 总数:\\n',y_test.value_counts())"
   ]
  },
  {
   "cell_type": "code",
   "execution_count": 104,
   "metadata": {},
   "outputs": [],
   "source": [
    "with ZipFile('data/model_scaler.zip', 'w') as zipObj2: #storing all scaler function to use in inference time\n",
    "    for col in X_train.columns[0:-1]:\n",
    "        scaler = MinMaxScaler()\n",
    "        X_train[col]=scaler.fit_transform(X_train[col].values.reshape(-1, 1))\n",
    "        X_cv[col]=scaler.transform(X_cv[col].values.reshape(-1, 1))\n",
    "        X_test[col]=scaler.transform(X_test[col].values.reshape(-1, 1))\n",
    "        model_scaler = pickle.dump(scaler, open('data/model_scaler_{0}'.format(col), 'wb'))\n",
    "        zipObj2.write('data/model_scaler_{0}'.format(col))\n",
    "zipObj2.close()      "
   ]
  },
  {
   "cell_type": "code",
   "execution_count": 123,
   "metadata": {},
   "outputs": [],
   "source": [
    "def plot_confusion_matrix(test_y, predict_y):\n",
    "    \"\"\" this function print cunfusion matrix and recall matrix\n",
    "    \"\"\"\n",
    "    labels = [0,1]\n",
    "    C = confusion_matrix(test_y, predict_y,labels=labels)\n",
    "    A =(((C.T)/(C.sum(axis=1))).T)\n",
    "    # representing A in heatmap format\n",
    "    print(\"-\"*20, \"Confusion matrix\", \"-\"*20)\n",
    "    plt.figure(figsize=(5,4))\n",
    "    sns.heatmap(C, annot=True, cmap=\"YlGnBu\", fmt=\".3f\", xticklabels=labels, yticklabels=labels)\n",
    "    plt.xlabel('Predicted Class')\n",
    "    plt.ylabel('Original Class')\n",
    "    plt.show()\n",
    "\n",
    "    print(\"-\"*20, \"Recall matrix (Row sum=1)\", \"-\"*20)\n",
    "    plt.figure(figsize=(5,4))\n",
    "    sns.heatmap(A, annot=True, cmap=\"YlGnBu\", fmt=\".3f\", xticklabels=labels, yticklabels=labels)\n",
    "    plt.xlabel('Predicted Class')\n",
    "    plt.ylabel('Original Class')\n",
    "    plt.show()"
   ]
  },
  {
   "cell_type": "markdown",
   "metadata": {},
   "source": [
    "## 随机森林多决策树模型:"
   ]
  },
  {
   "cell_type": "code",
   "execution_count": 124,
   "metadata": {
    "scrolled": false
   },
   "outputs": [
    {
     "name": "stdout",
     "output_type": "stream",
     "text": [
      "train confusion and recall matrix:\n",
      "\n",
      "-------------------- Confusion matrix --------------------\n"
     ]
    },
    {
     "data": {
      "image/png": "[encoded data removed]",
      "text/plain": [
       "<Figure size 360x288 with 2 Axes>"
      ]
     },
     "metadata": {
      "needs_background": "light"
     },
     "output_type": "display_data"
    },
    {
     "name": "stdout",
     "output_type": "stream",
     "text": [
      "-------------------- Recall matrix (Row sum=1) --------------------\n"
     ]
    },
    {
     "data": {
      "image/png": "[encoded data removed]",
      "text/plain": [
       "<Figure size 360x288 with 2 Axes>"
      ]
     },
     "metadata": {
      "needs_background": "light"
     },
     "output_type": "display_data"
    },
    {
     "name": "stdout",
     "output_type": "stream",
     "text": [
      "cv confusion and recall matrix:\n",
      "\n",
      "-------------------- Confusion matrix --------------------\n"
     ]
    },
    {
     "data": {
      "image/png": "[encoded data removed]",
      "text/plain": [
       "<Figure size 360x288 with 2 Axes>"
      ]
     },
     "metadata": {
      "needs_background": "light"
     },
     "output_type": "display_data"
    },
    {
     "name": "stdout",
     "output_type": "stream",
     "text": [
      "-------------------- Recall matrix (Row sum=1) --------------------\n"
     ]
    },
    {
     "data": {
      "image/png": "[encoded data removed]",
      "text/plain": [
       "<Figure size 360x288 with 2 Axes>"
      ]
     },
     "metadata": {
      "needs_background": "light"
     },
     "output_type": "display_data"
    },
    {
     "name": "stdout",
     "output_type": "stream",
     "text": [
      "test confusion and recall matrix:\n",
      "\n",
      "-------------------- Confusion matrix --------------------\n"
     ]
    },
    {
     "data": {
      "image/png": "[encoded data removed]",
      "text/plain": [
       "<Figure size 360x288 with 2 Axes>"
      ]
     },
     "metadata": {
      "needs_background": "light"
     },
     "output_type": "display_data"
    },
    {
     "name": "stdout",
     "output_type": "stream",
     "text": [
      "-------------------- Recall matrix (Row sum=1) --------------------\n"
     ]
    },
    {
     "data": {
      "image/png": "[encoded data removed]",
      "text/plain": [
       "<Figure size 360x288 with 2 Axes>"
      ]
     },
     "metadata": {
      "needs_background": "light"
     },
     "output_type": "display_data"
    },
    {
     "name": "stdout",
     "output_type": "stream",
     "text": [
      "train AUC score: 1.0\n",
      "cv AUC score: 0.9949517844744815\n",
      "test AUC score: 0.9967864120805296\n"
     ]
    }
   ],
   "source": [
    "clf = RandomForestClassifier(max_features='sqrt',n_jobs=-1,random_state=1)\n",
    "clf.fit(X_train[X_train.columns[0:-1]], y_train)\n",
    "print('train confusion and recall matrix:\\n')\n",
    "plot_confusion_matrix(y_train, clf.predict(X_train[X_train.columns[0:-1]]))\n",
    "print('cv confusion and recall matrix:\\n')\n",
    "plot_confusion_matrix(y_cv, clf.predict(X_cv[X_train.columns[0:-1]]))\n",
    "print('test confusion and recall matrix:\\n')\n",
    "plot_confusion_matrix(y_test, clf.predict(X_test[X_train.columns[0:-1]]))\n",
    "print('train AUC score:',roc_auc_score(y_train, clf.predict_proba(X_train[X_train.columns[0:-1]])[:,1]))\n",
    "print('cv AUC score:',roc_auc_score(y_cv, clf.predict_proba(X_cv[X_train.columns[0:-1]])[:,1]))\n",
    "print('test AUC score:',roc_auc_score(y_test, clf.predict_proba(X_test[X_train.columns[0:-1]])[:,1]))"
   ]
  },
  {
   "cell_type": "markdown",
   "metadata": {},
   "source": [
    "## Feature importance:"
   ]
  },
  {
   "cell_type": "code",
   "execution_count": 107,
   "metadata": {},
   "outputs": [],
   "source": [
    "pickle.dump(clf, open('final_model', 'wb'))"
   ]
  },
  {
   "cell_type": "code",
   "execution_count": 108,
   "metadata": {},
   "outputs": [
    {
     "data": {
      "image/png": "[encoded data removed]",
      "text/plain": [
       "<Figure size 720x864 with 1 Axes>"
      ]
     },
     "metadata": {
      "needs_background": "light"
     },
     "output_type": "display_data"
    }
   ],
   "source": [
    "features = X_train.columns[0:-1]\n",
    "importances = clf.feature_importances_\n",
    "indices = (np.argsort(importances))[-25:]\n",
    "plt.figure(figsize=(10,12))\n",
    "plt.title('Feature Importances')\n",
    "plt.barh(range(len(indices)), importances[indices], color='r', align='center')\n",
    "plt.yticks(range(len(indices)), [features[i] for i in indices])\n",
    "plt.xlabel('Relative Importance')\n",
    "plt.show()"
   ]
  },
  {
   "cell_type": "markdown",
   "metadata": {},
   "source": [
    "# 交叉验证数据中的误报分析\n",
    "- 我们将取所有我们预测为1并且实际上被标记为0的样本。\n",
    "- 我们将按日期创建组，以查看为什么将正常值预测为失败。"
   ]
  },
  {
   "cell_type": "code",
   "execution_count": 127,
   "metadata": {},
   "outputs": [
    {
     "name": "stdout",
     "output_type": "stream",
     "text": [
      "传感器故障时间: [datetime.date(2021, 6, 28), datetime.date(2021, 7, 4), datetime.date(2021, 7, 8), datetime.date(2021, 7, 17)]\n"
     ]
    },
    {
     "name": "stderr",
     "output_type": "stream",
     "text": [
      "/var/folders/dc/s7qx70fx44l4m7cvndrz2jsh0000gn/T/ipykernel_30637/2416775914.py:7: SettingWithCopyWarning: \n",
      "A value is trying to be set on a copy of a slice from a DataFrame.\n",
      "Try using .loc[row_indexer,col_indexer] = value instead\n",
      "\n",
      "See the caveats in the documentation: https://pandas.pydata.org/pandas-docs/stable/user_guide/indexing.html#returning-a-view-versus-a-copy\n",
      "  x['time']=pd.to_datetime(x['time'])\n"
     ]
    }
   ],
   "source": [
    "d=pd.DataFrame() \n",
    "d['time']=X_cv['timestamp']\n",
    "d['true']=y_cv\n",
    "d['pred']=clf.predict(X_cv[X_train.columns[0:-1]])\n",
    "a=d[d['true']==0]\n",
    "x=a[a['pred']==1]\n",
    "x['time']=pd.to_datetime(x['time'])\n",
    "g=x.groupby(by=x['time'].dt.date)\n",
    "print('传感器故障时间:',list(g.groups.keys())) "
   ]
  },
  {
   "cell_type": "code",
   "execution_count": 128,
   "metadata": {},
   "outputs": [
    {
     "name": "stdout",
     "output_type": "stream",
     "text": [
      "这些可能假性误报的数据时间: 2021-06-28\n"
     ]
    },
    {
     "data": {
      "text/html": [
       "<div>\n",
       "<style scoped>\n",
       "    .dataframe tbody tr th:only-of-type {\n",
       "        vertical-align: middle;\n",
       "    }\n",
       "\n",
       "    .dataframe tbody tr th {\n",
       "        vertical-align: top;\n",
       "    }\n",
       "\n",
       "    .dataframe thead th {\n",
       "        text-align: right;\n",
       "    }\n",
       "</style>\n",
       "<table border=\"1\" class=\"dataframe\">\n",
       "  <thead>\n",
       "    <tr style=\"text-align: right;\">\n",
       "      <th></th>\n",
       "      <th>time</th>\n",
       "      <th>true</th>\n",
       "      <th>pred</th>\n",
       "    </tr>\n",
       "  </thead>\n",
       "  <tbody>\n",
       "    <tr>\n",
       "      <th>127693</th>\n",
       "      <td>2021-06-28 16:14:00</td>\n",
       "      <td>0.0</td>\n",
       "      <td>1.0</td>\n",
       "    </tr>\n",
       "    <tr>\n",
       "      <th>127694</th>\n",
       "      <td>2021-06-28 16:15:00</td>\n",
       "      <td>0.0</td>\n",
       "      <td>1.0</td>\n",
       "    </tr>\n",
       "    <tr>\n",
       "      <th>127695</th>\n",
       "      <td>2021-06-28 16:16:00</td>\n",
       "      <td>0.0</td>\n",
       "      <td>1.0</td>\n",
       "    </tr>\n",
       "    <tr>\n",
       "      <th>127696</th>\n",
       "      <td>2021-06-28 16:17:00</td>\n",
       "      <td>0.0</td>\n",
       "      <td>1.0</td>\n",
       "    </tr>\n",
       "    <tr>\n",
       "      <th>127697</th>\n",
       "      <td>2021-06-28 16:18:00</td>\n",
       "      <td>0.0</td>\n",
       "      <td>1.0</td>\n",
       "    </tr>\n",
       "    <tr>\n",
       "      <th>...</th>\n",
       "      <td>...</td>\n",
       "      <td>...</td>\n",
       "      <td>...</td>\n",
       "    </tr>\n",
       "    <tr>\n",
       "      <th>128015</th>\n",
       "      <td>2021-06-28 21:36:00</td>\n",
       "      <td>0.0</td>\n",
       "      <td>1.0</td>\n",
       "    </tr>\n",
       "    <tr>\n",
       "      <th>128016</th>\n",
       "      <td>2021-06-28 21:37:00</td>\n",
       "      <td>0.0</td>\n",
       "      <td>1.0</td>\n",
       "    </tr>\n",
       "    <tr>\n",
       "      <th>128017</th>\n",
       "      <td>2021-06-28 21:38:00</td>\n",
       "      <td>0.0</td>\n",
       "      <td>1.0</td>\n",
       "    </tr>\n",
       "    <tr>\n",
       "      <th>128018</th>\n",
       "      <td>2021-06-28 21:39:00</td>\n",
       "      <td>0.0</td>\n",
       "      <td>1.0</td>\n",
       "    </tr>\n",
       "    <tr>\n",
       "      <th>128019</th>\n",
       "      <td>2021-06-28 21:40:00</td>\n",
       "      <td>0.0</td>\n",
       "      <td>1.0</td>\n",
       "    </tr>\n",
       "  </tbody>\n",
       "</table>\n",
       "<p>252 rows × 3 columns</p>\n",
       "</div>"
      ],
      "text/plain": [
       "                      time  true  pred\n",
       "127693 2021-06-28 16:14:00   0.0   1.0\n",
       "127694 2021-06-28 16:15:00   0.0   1.0\n",
       "127695 2021-06-28 16:16:00   0.0   1.0\n",
       "127696 2021-06-28 16:17:00   0.0   1.0\n",
       "127697 2021-06-28 16:18:00   0.0   1.0\n",
       "...                    ...   ...   ...\n",
       "128015 2021-06-28 21:36:00   0.0   1.0\n",
       "128016 2021-06-28 21:37:00   0.0   1.0\n",
       "128017 2021-06-28 21:38:00   0.0   1.0\n",
       "128018 2021-06-28 21:39:00   0.0   1.0\n",
       "128019 2021-06-28 21:40:00   0.0   1.0\n",
       "\n",
       "[252 rows x 3 columns]"
      ]
     },
     "execution_count": 128,
     "metadata": {},
     "output_type": "execute_result"
    }
   ],
   "source": [
    "print('这些可能假性误报的数据时间:',list(g.groups.keys())[0])\n",
    "g.get_group(list(g.groups.keys())[0])"
   ]
  },
  {
   "cell_type": "markdown",
   "metadata": {},
   "source": [
    "- 我们在 2021 年 6 月 28 日的 22:00:00 时间出现故障，因此应该在 21:55:00 时间进行预测。 但我们可以看到我们的模型从 16:12:00 开始发出失败警告，这意味着大约 6 小时前。\n",
    "- 此故障在所有故障中恢复所需的时间最长，因此此故障的原因可能与其他故障不同，因此，我们会在 6 小时前收到警告。"
   ]
  },
  {
   "cell_type": "code",
   "execution_count": 129,
   "metadata": {},
   "outputs": [
    {
     "name": "stdout",
     "output_type": "stream",
     "text": [
      "all FP points of date: 2021-07-04\n"
     ]
    },
    {
     "data": {
      "text/html": [
       "<div>\n",
       "<style scoped>\n",
       "    .dataframe tbody tr th:only-of-type {\n",
       "        vertical-align: middle;\n",
       "    }\n",
       "\n",
       "    .dataframe tbody tr th {\n",
       "        vertical-align: top;\n",
       "    }\n",
       "\n",
       "    .dataframe thead th {\n",
       "        text-align: right;\n",
       "    }\n",
       "</style>\n",
       "<table border=\"1\" class=\"dataframe\">\n",
       "  <thead>\n",
       "    <tr style=\"text-align: right;\">\n",
       "      <th></th>\n",
       "      <th>time</th>\n",
       "      <th>true</th>\n",
       "      <th>pred</th>\n",
       "    </tr>\n",
       "  </thead>\n",
       "  <tbody>\n",
       "    <tr>\n",
       "      <th>136420</th>\n",
       "      <td>2021-07-04 17:41:00</td>\n",
       "      <td>0.0</td>\n",
       "      <td>1.0</td>\n",
       "    </tr>\n",
       "    <tr>\n",
       "      <th>136421</th>\n",
       "      <td>2021-07-04 17:42:00</td>\n",
       "      <td>0.0</td>\n",
       "      <td>1.0</td>\n",
       "    </tr>\n",
       "    <tr>\n",
       "      <th>136422</th>\n",
       "      <td>2021-07-04 17:43:00</td>\n",
       "      <td>0.0</td>\n",
       "      <td>1.0</td>\n",
       "    </tr>\n",
       "    <tr>\n",
       "      <th>136423</th>\n",
       "      <td>2021-07-04 17:44:00</td>\n",
       "      <td>0.0</td>\n",
       "      <td>1.0</td>\n",
       "    </tr>\n",
       "    <tr>\n",
       "      <th>136424</th>\n",
       "      <td>2021-07-04 17:45:00</td>\n",
       "      <td>0.0</td>\n",
       "      <td>1.0</td>\n",
       "    </tr>\n",
       "    <tr>\n",
       "      <th>...</th>\n",
       "      <td>...</td>\n",
       "      <td>...</td>\n",
       "      <td>...</td>\n",
       "    </tr>\n",
       "    <tr>\n",
       "      <th>136492</th>\n",
       "      <td>2021-07-04 18:53:00</td>\n",
       "      <td>0.0</td>\n",
       "      <td>1.0</td>\n",
       "    </tr>\n",
       "    <tr>\n",
       "      <th>136493</th>\n",
       "      <td>2021-07-04 18:54:00</td>\n",
       "      <td>0.0</td>\n",
       "      <td>1.0</td>\n",
       "    </tr>\n",
       "    <tr>\n",
       "      <th>136494</th>\n",
       "      <td>2021-07-04 18:55:00</td>\n",
       "      <td>0.0</td>\n",
       "      <td>1.0</td>\n",
       "    </tr>\n",
       "    <tr>\n",
       "      <th>136495</th>\n",
       "      <td>2021-07-04 18:56:00</td>\n",
       "      <td>0.0</td>\n",
       "      <td>1.0</td>\n",
       "    </tr>\n",
       "    <tr>\n",
       "      <th>136496</th>\n",
       "      <td>2021-07-04 18:57:00</td>\n",
       "      <td>0.0</td>\n",
       "      <td>1.0</td>\n",
       "    </tr>\n",
       "  </tbody>\n",
       "</table>\n",
       "<p>76 rows × 3 columns</p>\n",
       "</div>"
      ],
      "text/plain": [
       "                      time  true  pred\n",
       "136420 2021-07-04 17:41:00   0.0   1.0\n",
       "136421 2021-07-04 17:42:00   0.0   1.0\n",
       "136422 2021-07-04 17:43:00   0.0   1.0\n",
       "136423 2021-07-04 17:44:00   0.0   1.0\n",
       "136424 2021-07-04 17:45:00   0.0   1.0\n",
       "...                    ...   ...   ...\n",
       "136492 2021-07-04 18:53:00   0.0   1.0\n",
       "136493 2021-07-04 18:54:00   0.0   1.0\n",
       "136494 2021-07-04 18:55:00   0.0   1.0\n",
       "136495 2021-07-04 18:56:00   0.0   1.0\n",
       "136496 2021-07-04 18:57:00   0.0   1.0\n",
       "\n",
       "[76 rows x 3 columns]"
      ]
     },
     "execution_count": 129,
     "metadata": {},
     "output_type": "execute_result"
    }
   ],
   "source": [
    "print('all FP points of date:',list(g.groups.keys())[1])\n",
    "g.get_group(list(g.groups.keys())[1])"
   ]
  },
  {
   "cell_type": "markdown",
   "metadata": {},
   "source": [
    "- 2021-06-28 的故障需要 6 天才能恢复，这意味着它在 2021-07-04 日期恢复。\n",
    "- 这里当机器处于故障状态时，它无法预测下一个正常状态，这完全可以，因为当机器出现故障时，我们不关心机器的下一个状态的预测。\n",
    "- 这些误报点对我们的模型来说并不是一个糟糕的预测。"
   ]
  },
  {
   "cell_type": "code",
   "execution_count": 112,
   "metadata": {},
   "outputs": [
    {
     "name": "stdout",
     "output_type": "stream",
     "text": [
      "all FP points of date: 2021-07-08\n"
     ]
    },
    {
     "data": {
      "text/html": [
       "<div>\n",
       "<style scoped>\n",
       "    .dataframe tbody tr th:only-of-type {\n",
       "        vertical-align: middle;\n",
       "    }\n",
       "\n",
       "    .dataframe tbody tr th {\n",
       "        vertical-align: top;\n",
       "    }\n",
       "\n",
       "    .dataframe thead th {\n",
       "        text-align: right;\n",
       "    }\n",
       "</style>\n",
       "<table border=\"1\" class=\"dataframe\">\n",
       "  <thead>\n",
       "    <tr style=\"text-align: right;\">\n",
       "      <th></th>\n",
       "      <th>time</th>\n",
       "      <th>true</th>\n",
       "      <th>pred</th>\n",
       "    </tr>\n",
       "  </thead>\n",
       "  <tbody>\n",
       "    <tr>\n",
       "      <th>141162</th>\n",
       "      <td>2021-07-08 00:43:00</td>\n",
       "      <td>0.0</td>\n",
       "      <td>1.0</td>\n",
       "    </tr>\n",
       "    <tr>\n",
       "      <th>141166</th>\n",
       "      <td>2021-07-08 00:47:00</td>\n",
       "      <td>0.0</td>\n",
       "      <td>1.0</td>\n",
       "    </tr>\n",
       "    <tr>\n",
       "      <th>141167</th>\n",
       "      <td>2021-07-08 00:48:00</td>\n",
       "      <td>0.0</td>\n",
       "      <td>1.0</td>\n",
       "    </tr>\n",
       "    <tr>\n",
       "      <th>141168</th>\n",
       "      <td>2021-07-08 00:49:00</td>\n",
       "      <td>0.0</td>\n",
       "      <td>1.0</td>\n",
       "    </tr>\n",
       "    <tr>\n",
       "      <th>141169</th>\n",
       "      <td>2021-07-08 00:50:00</td>\n",
       "      <td>0.0</td>\n",
       "      <td>1.0</td>\n",
       "    </tr>\n",
       "    <tr>\n",
       "      <th>141170</th>\n",
       "      <td>2021-07-08 00:51:00</td>\n",
       "      <td>0.0</td>\n",
       "      <td>1.0</td>\n",
       "    </tr>\n",
       "    <tr>\n",
       "      <th>141172</th>\n",
       "      <td>2021-07-08 00:53:00</td>\n",
       "      <td>0.0</td>\n",
       "      <td>1.0</td>\n",
       "    </tr>\n",
       "    <tr>\n",
       "      <th>141173</th>\n",
       "      <td>2021-07-08 00:54:00</td>\n",
       "      <td>0.0</td>\n",
       "      <td>1.0</td>\n",
       "    </tr>\n",
       "    <tr>\n",
       "      <th>141174</th>\n",
       "      <td>2021-07-08 00:55:00</td>\n",
       "      <td>0.0</td>\n",
       "      <td>1.0</td>\n",
       "    </tr>\n",
       "    <tr>\n",
       "      <th>141175</th>\n",
       "      <td>2021-07-08 00:56:00</td>\n",
       "      <td>0.0</td>\n",
       "      <td>1.0</td>\n",
       "    </tr>\n",
       "    <tr>\n",
       "      <th>141176</th>\n",
       "      <td>2021-07-08 00:57:00</td>\n",
       "      <td>0.0</td>\n",
       "      <td>1.0</td>\n",
       "    </tr>\n",
       "    <tr>\n",
       "      <th>141177</th>\n",
       "      <td>2021-07-08 00:58:00</td>\n",
       "      <td>0.0</td>\n",
       "      <td>1.0</td>\n",
       "    </tr>\n",
       "    <tr>\n",
       "      <th>141178</th>\n",
       "      <td>2021-07-08 00:59:00</td>\n",
       "      <td>0.0</td>\n",
       "      <td>1.0</td>\n",
       "    </tr>\n",
       "    <tr>\n",
       "      <th>141179</th>\n",
       "      <td>2021-07-08 01:00:00</td>\n",
       "      <td>0.0</td>\n",
       "      <td>1.0</td>\n",
       "    </tr>\n",
       "    <tr>\n",
       "      <th>141180</th>\n",
       "      <td>2021-07-08 01:01:00</td>\n",
       "      <td>0.0</td>\n",
       "      <td>1.0</td>\n",
       "    </tr>\n",
       "    <tr>\n",
       "      <th>141181</th>\n",
       "      <td>2021-07-08 01:02:00</td>\n",
       "      <td>0.0</td>\n",
       "      <td>1.0</td>\n",
       "    </tr>\n",
       "  </tbody>\n",
       "</table>\n",
       "</div>"
      ],
      "text/plain": [
       "                      time  true  pred\n",
       "141162 2021-07-08 00:43:00   0.0   1.0\n",
       "141166 2021-07-08 00:47:00   0.0   1.0\n",
       "141167 2021-07-08 00:48:00   0.0   1.0\n",
       "141168 2021-07-08 00:49:00   0.0   1.0\n",
       "141169 2021-07-08 00:50:00   0.0   1.0\n",
       "141170 2021-07-08 00:51:00   0.0   1.0\n",
       "141172 2021-07-08 00:53:00   0.0   1.0\n",
       "141173 2021-07-08 00:54:00   0.0   1.0\n",
       "141174 2021-07-08 00:55:00   0.0   1.0\n",
       "141175 2021-07-08 00:56:00   0.0   1.0\n",
       "141176 2021-07-08 00:57:00   0.0   1.0\n",
       "141177 2021-07-08 00:58:00   0.0   1.0\n",
       "141178 2021-07-08 00:59:00   0.0   1.0\n",
       "141179 2021-07-08 01:00:00   0.0   1.0\n",
       "141180 2021-07-08 01:01:00   0.0   1.0\n",
       "141181 2021-07-08 01:02:00   0.0   1.0"
      ]
     },
     "execution_count": 112,
     "metadata": {},
     "output_type": "execute_result"
    }
   ],
   "source": [
    "print('all FP points of date:',list(g.groups.keys())[2])\n",
    "g.get_group(list(g.groups.keys())[2])"
   ]
  },
  {
   "cell_type": "markdown",
   "metadata": {},
   "source": [
    "- 这里的条件也和上面一样。\n",
    "- 我们在 2021 年 7 月 8 日凌晨发生故障，在 40 分钟内恢复。\n",
    "- 这里也处于恢复状态，我们的模型无法预测下一个正常的雕像，这是可以接受的行为"
   ]
  },
  {
   "cell_type": "code",
   "execution_count": 113,
   "metadata": {},
   "outputs": [
    {
     "name": "stdout",
     "output_type": "stream",
     "text": [
      "all FP points of date: 2021-07-17\n"
     ]
    },
    {
     "data": {
      "text/html": [
       "<div>\n",
       "<style scoped>\n",
       "    .dataframe tbody tr th:only-of-type {\n",
       "        vertical-align: middle;\n",
       "    }\n",
       "\n",
       "    .dataframe tbody tr th {\n",
       "        vertical-align: top;\n",
       "    }\n",
       "\n",
       "    .dataframe thead th {\n",
       "        text-align: right;\n",
       "    }\n",
       "</style>\n",
       "<table border=\"1\" class=\"dataframe\">\n",
       "  <thead>\n",
       "    <tr style=\"text-align: right;\">\n",
       "      <th></th>\n",
       "      <th>time</th>\n",
       "      <th>true</th>\n",
       "      <th>pred</th>\n",
       "    </tr>\n",
       "  </thead>\n",
       "  <tbody>\n",
       "    <tr>\n",
       "      <th>155007</th>\n",
       "      <td>2021-07-17 15:28:00</td>\n",
       "      <td>0.0</td>\n",
       "      <td>1.0</td>\n",
       "    </tr>\n",
       "    <tr>\n",
       "      <th>155008</th>\n",
       "      <td>2021-07-17 15:29:00</td>\n",
       "      <td>0.0</td>\n",
       "      <td>1.0</td>\n",
       "    </tr>\n",
       "    <tr>\n",
       "      <th>155009</th>\n",
       "      <td>2021-07-17 15:30:00</td>\n",
       "      <td>0.0</td>\n",
       "      <td>1.0</td>\n",
       "    </tr>\n",
       "    <tr>\n",
       "      <th>155010</th>\n",
       "      <td>2021-07-17 15:31:00</td>\n",
       "      <td>0.0</td>\n",
       "      <td>1.0</td>\n",
       "    </tr>\n",
       "    <tr>\n",
       "      <th>155011</th>\n",
       "      <td>2021-07-17 15:32:00</td>\n",
       "      <td>0.0</td>\n",
       "      <td>1.0</td>\n",
       "    </tr>\n",
       "    <tr>\n",
       "      <th>155012</th>\n",
       "      <td>2021-07-17 15:33:00</td>\n",
       "      <td>0.0</td>\n",
       "      <td>1.0</td>\n",
       "    </tr>\n",
       "    <tr>\n",
       "      <th>155013</th>\n",
       "      <td>2021-07-17 15:34:00</td>\n",
       "      <td>0.0</td>\n",
       "      <td>1.0</td>\n",
       "    </tr>\n",
       "    <tr>\n",
       "      <th>155014</th>\n",
       "      <td>2021-07-17 15:35:00</td>\n",
       "      <td>0.0</td>\n",
       "      <td>1.0</td>\n",
       "    </tr>\n",
       "    <tr>\n",
       "      <th>155015</th>\n",
       "      <td>2021-07-17 15:36:00</td>\n",
       "      <td>0.0</td>\n",
       "      <td>1.0</td>\n",
       "    </tr>\n",
       "    <tr>\n",
       "      <th>155016</th>\n",
       "      <td>2021-07-17 15:37:00</td>\n",
       "      <td>0.0</td>\n",
       "      <td>1.0</td>\n",
       "    </tr>\n",
       "    <tr>\n",
       "      <th>155017</th>\n",
       "      <td>2021-07-17 15:38:00</td>\n",
       "      <td>0.0</td>\n",
       "      <td>1.0</td>\n",
       "    </tr>\n",
       "  </tbody>\n",
       "</table>\n",
       "</div>"
      ],
      "text/plain": [
       "                      time  true  pred\n",
       "155007 2021-07-17 15:28:00   0.0   1.0\n",
       "155008 2021-07-17 15:29:00   0.0   1.0\n",
       "155009 2021-07-17 15:30:00   0.0   1.0\n",
       "155010 2021-07-17 15:31:00   0.0   1.0\n",
       "155011 2021-07-17 15:32:00   0.0   1.0\n",
       "155012 2021-07-17 15:33:00   0.0   1.0\n",
       "155013 2021-07-17 15:34:00   0.0   1.0\n",
       "155014 2021-07-17 15:35:00   0.0   1.0\n",
       "155015 2021-07-17 15:36:00   0.0   1.0\n",
       "155016 2021-07-17 15:37:00   0.0   1.0\n",
       "155017 2021-07-17 15:38:00   0.0   1.0"
      ]
     },
     "execution_count": 113,
     "metadata": {},
     "output_type": "execute_result"
    }
   ],
   "source": [
    "print('all FP points of date:',list(g.groups.keys())[3])\n",
    "g.get_group(list(g.groups.keys())[3])"
   ]
  },
  {
   "cell_type": "markdown",
   "metadata": {},
   "source": [
    "- 我们没有任何理由证明这些误报是合理的"
   ]
  },
  {
   "cell_type": "markdown",
   "metadata": {},
   "source": [
    "# 交叉数据集数据中的假阴性分析："
   ]
  },
  {
   "cell_type": "code",
   "execution_count": 114,
   "metadata": {},
   "outputs": [
    {
     "name": "stdout",
     "output_type": "stream",
     "text": [
      "date of failure: [datetime.date(2021, 7, 7), datetime.date(2021, 7, 8)]\n"
     ]
    },
    {
     "name": "stderr",
     "output_type": "stream",
     "text": [
      "/var/folders/dc/s7qx70fx44l4m7cvndrz2jsh0000gn/T/ipykernel_30637/1326950552.py:7: SettingWithCopyWarning: \n",
      "A value is trying to be set on a copy of a slice from a DataFrame.\n",
      "Try using .loc[row_indexer,col_indexer] = value instead\n",
      "\n",
      "See the caveats in the documentation: https://pandas.pydata.org/pandas-docs/stable/user_guide/indexing.html#returning-a-view-versus-a-copy\n",
      "  x['time']=pd.to_datetime(x['time'])\n"
     ]
    }
   ],
   "source": [
    "d=pd.DataFrame() #temp dataframe\n",
    "d['time']=X_cv['timestamp']\n",
    "d['true']=y_cv\n",
    "d['pred']=clf.predict(X_cv[X_train.columns[0:-1]])\n",
    "a=d[d['true']==1]\n",
    "x=a[a['pred']==0]\n",
    "x['time']=pd.to_datetime(x['time'])\n",
    "g=x.groupby(by=x['time'].dt.date)\n",
    "print('date of failure:',list(g.groups.keys())) \n"
   ]
  },
  {
   "cell_type": "code",
   "execution_count": 115,
   "metadata": {},
   "outputs": [
    {
     "name": "stdout",
     "output_type": "stream",
     "text": [
      "all FN points of date: 2021-07-07\n"
     ]
    },
    {
     "data": {
      "text/html": [
       "<div>\n",
       "<style scoped>\n",
       "    .dataframe tbody tr th:only-of-type {\n",
       "        vertical-align: middle;\n",
       "    }\n",
       "\n",
       "    .dataframe tbody tr th {\n",
       "        vertical-align: top;\n",
       "    }\n",
       "\n",
       "    .dataframe thead th {\n",
       "        text-align: right;\n",
       "    }\n",
       "</style>\n",
       "<table border=\"1\" class=\"dataframe\">\n",
       "  <thead>\n",
       "    <tr style=\"text-align: right;\">\n",
       "      <th></th>\n",
       "      <th>time</th>\n",
       "      <th>true</th>\n",
       "      <th>pred</th>\n",
       "    </tr>\n",
       "  </thead>\n",
       "  <tbody>\n",
       "    <tr>\n",
       "      <th>141111</th>\n",
       "      <td>2021-07-07 23:52:00</td>\n",
       "      <td>1.0</td>\n",
       "      <td>0.0</td>\n",
       "    </tr>\n",
       "    <tr>\n",
       "      <th>141112</th>\n",
       "      <td>2021-07-07 23:53:00</td>\n",
       "      <td>1.0</td>\n",
       "      <td>0.0</td>\n",
       "    </tr>\n",
       "    <tr>\n",
       "      <th>141113</th>\n",
       "      <td>2021-07-07 23:54:00</td>\n",
       "      <td>1.0</td>\n",
       "      <td>0.0</td>\n",
       "    </tr>\n",
       "    <tr>\n",
       "      <th>141114</th>\n",
       "      <td>2021-07-07 23:55:00</td>\n",
       "      <td>1.0</td>\n",
       "      <td>0.0</td>\n",
       "    </tr>\n",
       "    <tr>\n",
       "      <th>141115</th>\n",
       "      <td>2021-07-07 23:56:00</td>\n",
       "      <td>1.0</td>\n",
       "      <td>0.0</td>\n",
       "    </tr>\n",
       "    <tr>\n",
       "      <th>141116</th>\n",
       "      <td>2021-07-07 23:57:00</td>\n",
       "      <td>1.0</td>\n",
       "      <td>0.0</td>\n",
       "    </tr>\n",
       "    <tr>\n",
       "      <th>141117</th>\n",
       "      <td>2021-07-07 23:58:00</td>\n",
       "      <td>1.0</td>\n",
       "      <td>0.0</td>\n",
       "    </tr>\n",
       "    <tr>\n",
       "      <th>141118</th>\n",
       "      <td>2021-07-07 23:59:00</td>\n",
       "      <td>1.0</td>\n",
       "      <td>0.0</td>\n",
       "    </tr>\n",
       "  </tbody>\n",
       "</table>\n",
       "</div>"
      ],
      "text/plain": [
       "                      time  true  pred\n",
       "141111 2021-07-07 23:52:00   1.0   0.0\n",
       "141112 2021-07-07 23:53:00   1.0   0.0\n",
       "141113 2021-07-07 23:54:00   1.0   0.0\n",
       "141114 2021-07-07 23:55:00   1.0   0.0\n",
       "141115 2021-07-07 23:56:00   1.0   0.0\n",
       "141116 2021-07-07 23:57:00   1.0   0.0\n",
       "141117 2021-07-07 23:58:00   1.0   0.0\n",
       "141118 2021-07-07 23:59:00   1.0   0.0"
      ]
     },
     "execution_count": 115,
     "metadata": {},
     "output_type": "execute_result"
    }
   ],
   "source": [
    "print('all FN points of date:',list(g.groups.keys())[0])\n",
    "g.get_group(list(g.groups.keys())[0])"
   ]
  },
  {
   "cell_type": "markdown",
   "metadata": {},
   "source": [
    "- 我们在 2021-07-08凌晨出现故障，它应该在 2021-07-08 00:06:00 之前得到预测。\n",
    "- 在 2021-07-07 23:59:00 之前，我们的机器状态正常，我们不希望模型在这段时间内预测故障。\n",
    "- 因此这些假阴性不会降低我们模型的性能评价"
   ]
  },
  {
   "cell_type": "code",
   "execution_count": 130,
   "metadata": {},
   "outputs": [
    {
     "name": "stdout",
     "output_type": "stream",
     "text": [
      "all FN points of date: 2021-07-04\n"
     ]
    },
    {
     "data": {
      "text/html": [
       "<div>\n",
       "<style scoped>\n",
       "    .dataframe tbody tr th:only-of-type {\n",
       "        vertical-align: middle;\n",
       "    }\n",
       "\n",
       "    .dataframe tbody tr th {\n",
       "        vertical-align: top;\n",
       "    }\n",
       "\n",
       "    .dataframe thead th {\n",
       "        text-align: right;\n",
       "    }\n",
       "</style>\n",
       "<table border=\"1\" class=\"dataframe\">\n",
       "  <thead>\n",
       "    <tr style=\"text-align: right;\">\n",
       "      <th></th>\n",
       "      <th>time</th>\n",
       "      <th>true</th>\n",
       "      <th>pred</th>\n",
       "    </tr>\n",
       "  </thead>\n",
       "  <tbody>\n",
       "    <tr>\n",
       "      <th>136420</th>\n",
       "      <td>2021-07-04 17:41:00</td>\n",
       "      <td>0.0</td>\n",
       "      <td>1.0</td>\n",
       "    </tr>\n",
       "    <tr>\n",
       "      <th>136421</th>\n",
       "      <td>2021-07-04 17:42:00</td>\n",
       "      <td>0.0</td>\n",
       "      <td>1.0</td>\n",
       "    </tr>\n",
       "    <tr>\n",
       "      <th>136422</th>\n",
       "      <td>2021-07-04 17:43:00</td>\n",
       "      <td>0.0</td>\n",
       "      <td>1.0</td>\n",
       "    </tr>\n",
       "    <tr>\n",
       "      <th>136423</th>\n",
       "      <td>2021-07-04 17:44:00</td>\n",
       "      <td>0.0</td>\n",
       "      <td>1.0</td>\n",
       "    </tr>\n",
       "    <tr>\n",
       "      <th>136424</th>\n",
       "      <td>2021-07-04 17:45:00</td>\n",
       "      <td>0.0</td>\n",
       "      <td>1.0</td>\n",
       "    </tr>\n",
       "    <tr>\n",
       "      <th>...</th>\n",
       "      <td>...</td>\n",
       "      <td>...</td>\n",
       "      <td>...</td>\n",
       "    </tr>\n",
       "    <tr>\n",
       "      <th>136492</th>\n",
       "      <td>2021-07-04 18:53:00</td>\n",
       "      <td>0.0</td>\n",
       "      <td>1.0</td>\n",
       "    </tr>\n",
       "    <tr>\n",
       "      <th>136493</th>\n",
       "      <td>2021-07-04 18:54:00</td>\n",
       "      <td>0.0</td>\n",
       "      <td>1.0</td>\n",
       "    </tr>\n",
       "    <tr>\n",
       "      <th>136494</th>\n",
       "      <td>2021-07-04 18:55:00</td>\n",
       "      <td>0.0</td>\n",
       "      <td>1.0</td>\n",
       "    </tr>\n",
       "    <tr>\n",
       "      <th>136495</th>\n",
       "      <td>2021-07-04 18:56:00</td>\n",
       "      <td>0.0</td>\n",
       "      <td>1.0</td>\n",
       "    </tr>\n",
       "    <tr>\n",
       "      <th>136496</th>\n",
       "      <td>2021-07-04 18:57:00</td>\n",
       "      <td>0.0</td>\n",
       "      <td>1.0</td>\n",
       "    </tr>\n",
       "  </tbody>\n",
       "</table>\n",
       "<p>76 rows × 3 columns</p>\n",
       "</div>"
      ],
      "text/plain": [
       "                      time  true  pred\n",
       "136420 2021-07-04 17:41:00   0.0   1.0\n",
       "136421 2021-07-04 17:42:00   0.0   1.0\n",
       "136422 2021-07-04 17:43:00   0.0   1.0\n",
       "136423 2021-07-04 17:44:00   0.0   1.0\n",
       "136424 2021-07-04 17:45:00   0.0   1.0\n",
       "...                    ...   ...   ...\n",
       "136492 2021-07-04 18:53:00   0.0   1.0\n",
       "136493 2021-07-04 18:54:00   0.0   1.0\n",
       "136494 2021-07-04 18:55:00   0.0   1.0\n",
       "136495 2021-07-04 18:56:00   0.0   1.0\n",
       "136496 2021-07-04 18:57:00   0.0   1.0\n",
       "\n",
       "[76 rows x 3 columns]"
      ]
     },
     "execution_count": 130,
     "metadata": {},
     "output_type": "execute_result"
    }
   ],
   "source": [
    "print('all FN points of date:',list(g.groups.keys())[1])\n",
    "g.get_group(list(g.groups.keys())[1])"
   ]
  },
  {
   "cell_type": "markdown",
   "metadata": {},
   "source": [
    "- 我们在 2021-07-08 00:11:00 发生故障，我们在 5 分钟前预测此故障，因此第 1 次 5 假阴性无关紧要。\n",
    "- 我们的模型在这次失败后直到 00:52:00 都处于恢复状态，无论我们机器的哪个状态被预测到，我们都不关心它。"
   ]
  },
  {
   "cell_type": "markdown",
   "metadata": {},
   "source": [
    "# 测试数据集中的误报分析"
   ]
  },
  {
   "cell_type": "code",
   "execution_count": 117,
   "metadata": {},
   "outputs": [
    {
     "name": "stdout",
     "output_type": "stream",
     "text": [
      "date of failure: [datetime.date(2021, 7, 25), datetime.date(2021, 8, 14), datetime.date(2021, 8, 21)]\n"
     ]
    },
    {
     "name": "stderr",
     "output_type": "stream",
     "text": [
      "/var/folders/dc/s7qx70fx44l4m7cvndrz2jsh0000gn/T/ipykernel_30637/1831591341.py:7: SettingWithCopyWarning: \n",
      "A value is trying to be set on a copy of a slice from a DataFrame.\n",
      "Try using .loc[row_indexer,col_indexer] = value instead\n",
      "\n",
      "See the caveats in the documentation: https://pandas.pydata.org/pandas-docs/stable/user_guide/indexing.html#returning-a-view-versus-a-copy\n",
      "  x['time']=pd.to_datetime(x['time'])\n"
     ]
    }
   ],
   "source": [
    "d=pd.DataFrame() #temp dataframe\n",
    "d['time']=X_test['timestamp']\n",
    "d['true']=y_test\n",
    "d['pred']=clf.predict(X_test[X_train.columns[0:-1]])\n",
    "a=d[d['true']==0]\n",
    "x=a[a['pred']==1]\n",
    "x['time']=pd.to_datetime(x['time'])\n",
    "g=x.groupby(by=x['time'].dt.date)\n",
    "print('date of failure:',list(g.groups.keys())) \n"
   ]
  },
  {
   "cell_type": "code",
   "execution_count": 118,
   "metadata": {},
   "outputs": [
    {
     "name": "stdout",
     "output_type": "stream",
     "text": [
      "all FP points of date: 2021-07-25\n"
     ]
    },
    {
     "data": {
      "text/html": [
       "<div>\n",
       "<style scoped>\n",
       "    .dataframe tbody tr th:only-of-type {\n",
       "        vertical-align: middle;\n",
       "    }\n",
       "\n",
       "    .dataframe tbody tr th {\n",
       "        vertical-align: top;\n",
       "    }\n",
       "\n",
       "    .dataframe thead th {\n",
       "        text-align: right;\n",
       "    }\n",
       "</style>\n",
       "<table border=\"1\" class=\"dataframe\">\n",
       "  <thead>\n",
       "    <tr style=\"text-align: right;\">\n",
       "      <th></th>\n",
       "      <th>time</th>\n",
       "      <th>true</th>\n",
       "      <th>pred</th>\n",
       "    </tr>\n",
       "  </thead>\n",
       "  <tbody>\n",
       "    <tr>\n",
       "      <th>166505</th>\n",
       "      <td>2021-07-25 15:06:00</td>\n",
       "      <td>0.0</td>\n",
       "      <td>1.0</td>\n",
       "    </tr>\n",
       "    <tr>\n",
       "      <th>166506</th>\n",
       "      <td>2021-07-25 15:07:00</td>\n",
       "      <td>0.0</td>\n",
       "      <td>1.0</td>\n",
       "    </tr>\n",
       "    <tr>\n",
       "      <th>166507</th>\n",
       "      <td>2021-07-25 15:08:00</td>\n",
       "      <td>0.0</td>\n",
       "      <td>1.0</td>\n",
       "    </tr>\n",
       "    <tr>\n",
       "      <th>166508</th>\n",
       "      <td>2021-07-25 15:09:00</td>\n",
       "      <td>0.0</td>\n",
       "      <td>1.0</td>\n",
       "    </tr>\n",
       "    <tr>\n",
       "      <th>166509</th>\n",
       "      <td>2021-07-25 15:10:00</td>\n",
       "      <td>0.0</td>\n",
       "      <td>1.0</td>\n",
       "    </tr>\n",
       "    <tr>\n",
       "      <th>166510</th>\n",
       "      <td>2021-07-25 15:11:00</td>\n",
       "      <td>0.0</td>\n",
       "      <td>1.0</td>\n",
       "    </tr>\n",
       "    <tr>\n",
       "      <th>166511</th>\n",
       "      <td>2021-07-25 15:12:00</td>\n",
       "      <td>0.0</td>\n",
       "      <td>1.0</td>\n",
       "    </tr>\n",
       "    <tr>\n",
       "      <th>166512</th>\n",
       "      <td>2021-07-25 15:13:00</td>\n",
       "      <td>0.0</td>\n",
       "      <td>1.0</td>\n",
       "    </tr>\n",
       "    <tr>\n",
       "      <th>166513</th>\n",
       "      <td>2021-07-25 15:14:00</td>\n",
       "      <td>0.0</td>\n",
       "      <td>1.0</td>\n",
       "    </tr>\n",
       "    <tr>\n",
       "      <th>166514</th>\n",
       "      <td>2021-07-25 15:15:00</td>\n",
       "      <td>0.0</td>\n",
       "      <td>1.0</td>\n",
       "    </tr>\n",
       "    <tr>\n",
       "      <th>166515</th>\n",
       "      <td>2021-07-25 15:16:00</td>\n",
       "      <td>0.0</td>\n",
       "      <td>1.0</td>\n",
       "    </tr>\n",
       "    <tr>\n",
       "      <th>166516</th>\n",
       "      <td>2021-07-25 15:17:00</td>\n",
       "      <td>0.0</td>\n",
       "      <td>1.0</td>\n",
       "    </tr>\n",
       "    <tr>\n",
       "      <th>166517</th>\n",
       "      <td>2021-07-25 15:18:00</td>\n",
       "      <td>0.0</td>\n",
       "      <td>1.0</td>\n",
       "    </tr>\n",
       "    <tr>\n",
       "      <th>166518</th>\n",
       "      <td>2021-07-25 15:19:00</td>\n",
       "      <td>0.0</td>\n",
       "      <td>1.0</td>\n",
       "    </tr>\n",
       "    <tr>\n",
       "      <th>166519</th>\n",
       "      <td>2021-07-25 15:20:00</td>\n",
       "      <td>0.0</td>\n",
       "      <td>1.0</td>\n",
       "    </tr>\n",
       "    <tr>\n",
       "      <th>166520</th>\n",
       "      <td>2021-07-25 15:21:00</td>\n",
       "      <td>0.0</td>\n",
       "      <td>1.0</td>\n",
       "    </tr>\n",
       "  </tbody>\n",
       "</table>\n",
       "</div>"
      ],
      "text/plain": [
       "                      time  true  pred\n",
       "166505 2021-07-25 15:06:00   0.0   1.0\n",
       "166506 2021-07-25 15:07:00   0.0   1.0\n",
       "166507 2021-07-25 15:08:00   0.0   1.0\n",
       "166508 2021-07-25 15:09:00   0.0   1.0\n",
       "166509 2021-07-25 15:10:00   0.0   1.0\n",
       "166510 2021-07-25 15:11:00   0.0   1.0\n",
       "166511 2021-07-25 15:12:00   0.0   1.0\n",
       "166512 2021-07-25 15:13:00   0.0   1.0\n",
       "166513 2021-07-25 15:14:00   0.0   1.0\n",
       "166514 2021-07-25 15:15:00   0.0   1.0\n",
       "166515 2021-07-25 15:16:00   0.0   1.0\n",
       "166516 2021-07-25 15:17:00   0.0   1.0\n",
       "166517 2021-07-25 15:18:00   0.0   1.0\n",
       "166518 2021-07-25 15:19:00   0.0   1.0\n",
       "166519 2021-07-25 15:20:00   0.0   1.0\n",
       "166520 2021-07-25 15:21:00   0.0   1.0"
      ]
     },
     "execution_count": 118,
     "metadata": {},
     "output_type": "execute_result"
    }
   ],
   "source": [
    "print('all FP points of date:',list(g.groups.keys())[0])\n",
    "g.get_group(list(g.groups.keys())[0])"
   ]
  },
  {
   "cell_type": "markdown",
   "metadata": {},
   "source": [
    "- 这里也是我们在交叉测试数据集中看到的误报情况。\n",
    "- 故障发生在 2021-07-25 14:00:00，大约需要1小时才能恢复。 \n",
    "- 当机器处于故障状态时，我们的模型无法预测下一个正常状态，世界上也没有模型可以做到，因为是随机和先验的"
   ]
  },
  {
   "cell_type": "code",
   "execution_count": 131,
   "metadata": {},
   "outputs": [
    {
     "name": "stdout",
     "output_type": "stream",
     "text": [
      "all FP points of date: 2021-07-04\n"
     ]
    },
    {
     "data": {
      "text/html": [
       "<div>\n",
       "<style scoped>\n",
       "    .dataframe tbody tr th:only-of-type {\n",
       "        vertical-align: middle;\n",
       "    }\n",
       "\n",
       "    .dataframe tbody tr th {\n",
       "        vertical-align: top;\n",
       "    }\n",
       "\n",
       "    .dataframe thead th {\n",
       "        text-align: right;\n",
       "    }\n",
       "</style>\n",
       "<table border=\"1\" class=\"dataframe\">\n",
       "  <thead>\n",
       "    <tr style=\"text-align: right;\">\n",
       "      <th></th>\n",
       "      <th>time</th>\n",
       "      <th>true</th>\n",
       "      <th>pred</th>\n",
       "    </tr>\n",
       "  </thead>\n",
       "  <tbody>\n",
       "    <tr>\n",
       "      <th>136420</th>\n",
       "      <td>2021-07-04 17:41:00</td>\n",
       "      <td>0.0</td>\n",
       "      <td>1.0</td>\n",
       "    </tr>\n",
       "    <tr>\n",
       "      <th>136421</th>\n",
       "      <td>2021-07-04 17:42:00</td>\n",
       "      <td>0.0</td>\n",
       "      <td>1.0</td>\n",
       "    </tr>\n",
       "    <tr>\n",
       "      <th>136422</th>\n",
       "      <td>2021-07-04 17:43:00</td>\n",
       "      <td>0.0</td>\n",
       "      <td>1.0</td>\n",
       "    </tr>\n",
       "    <tr>\n",
       "      <th>136423</th>\n",
       "      <td>2021-07-04 17:44:00</td>\n",
       "      <td>0.0</td>\n",
       "      <td>1.0</td>\n",
       "    </tr>\n",
       "    <tr>\n",
       "      <th>136424</th>\n",
       "      <td>2021-07-04 17:45:00</td>\n",
       "      <td>0.0</td>\n",
       "      <td>1.0</td>\n",
       "    </tr>\n",
       "    <tr>\n",
       "      <th>...</th>\n",
       "      <td>...</td>\n",
       "      <td>...</td>\n",
       "      <td>...</td>\n",
       "    </tr>\n",
       "    <tr>\n",
       "      <th>136492</th>\n",
       "      <td>2021-07-04 18:53:00</td>\n",
       "      <td>0.0</td>\n",
       "      <td>1.0</td>\n",
       "    </tr>\n",
       "    <tr>\n",
       "      <th>136493</th>\n",
       "      <td>2021-07-04 18:54:00</td>\n",
       "      <td>0.0</td>\n",
       "      <td>1.0</td>\n",
       "    </tr>\n",
       "    <tr>\n",
       "      <th>136494</th>\n",
       "      <td>2021-07-04 18:55:00</td>\n",
       "      <td>0.0</td>\n",
       "      <td>1.0</td>\n",
       "    </tr>\n",
       "    <tr>\n",
       "      <th>136495</th>\n",
       "      <td>2021-07-04 18:56:00</td>\n",
       "      <td>0.0</td>\n",
       "      <td>1.0</td>\n",
       "    </tr>\n",
       "    <tr>\n",
       "      <th>136496</th>\n",
       "      <td>2021-07-04 18:57:00</td>\n",
       "      <td>0.0</td>\n",
       "      <td>1.0</td>\n",
       "    </tr>\n",
       "  </tbody>\n",
       "</table>\n",
       "<p>76 rows × 3 columns</p>\n",
       "</div>"
      ],
      "text/plain": [
       "                      time  true  pred\n",
       "136420 2021-07-04 17:41:00   0.0   1.0\n",
       "136421 2021-07-04 17:42:00   0.0   1.0\n",
       "136422 2021-07-04 17:43:00   0.0   1.0\n",
       "136423 2021-07-04 17:44:00   0.0   1.0\n",
       "136424 2021-07-04 17:45:00   0.0   1.0\n",
       "...                    ...   ...   ...\n",
       "136492 2021-07-04 18:53:00   0.0   1.0\n",
       "136493 2021-07-04 18:54:00   0.0   1.0\n",
       "136494 2021-07-04 18:55:00   0.0   1.0\n",
       "136495 2021-07-04 18:56:00   0.0   1.0\n",
       "136496 2021-07-04 18:57:00   0.0   1.0\n",
       "\n",
       "[76 rows x 3 columns]"
      ]
     },
     "execution_count": 131,
     "metadata": {},
     "output_type": "execute_result"
    }
   ],
   "source": [
    "print('all FP points of date:',list(g.groups.keys())[1])\n",
    "g.get_group(list(g.groups.keys())[1])"
   ]
  },
  {
   "cell_type": "code",
   "execution_count": 132,
   "metadata": {},
   "outputs": [
    {
     "name": "stdout",
     "output_type": "stream",
     "text": [
      "all FP points of date: 2021-07-08\n"
     ]
    },
    {
     "data": {
      "text/html": [
       "<div>\n",
       "<style scoped>\n",
       "    .dataframe tbody tr th:only-of-type {\n",
       "        vertical-align: middle;\n",
       "    }\n",
       "\n",
       "    .dataframe tbody tr th {\n",
       "        vertical-align: top;\n",
       "    }\n",
       "\n",
       "    .dataframe thead th {\n",
       "        text-align: right;\n",
       "    }\n",
       "</style>\n",
       "<table border=\"1\" class=\"dataframe\">\n",
       "  <thead>\n",
       "    <tr style=\"text-align: right;\">\n",
       "      <th></th>\n",
       "      <th>time</th>\n",
       "      <th>true</th>\n",
       "      <th>pred</th>\n",
       "    </tr>\n",
       "  </thead>\n",
       "  <tbody>\n",
       "    <tr>\n",
       "      <th>141162</th>\n",
       "      <td>2021-07-08 00:43:00</td>\n",
       "      <td>0.0</td>\n",
       "      <td>1.0</td>\n",
       "    </tr>\n",
       "    <tr>\n",
       "      <th>141166</th>\n",
       "      <td>2021-07-08 00:47:00</td>\n",
       "      <td>0.0</td>\n",
       "      <td>1.0</td>\n",
       "    </tr>\n",
       "    <tr>\n",
       "      <th>141167</th>\n",
       "      <td>2021-07-08 00:48:00</td>\n",
       "      <td>0.0</td>\n",
       "      <td>1.0</td>\n",
       "    </tr>\n",
       "    <tr>\n",
       "      <th>141168</th>\n",
       "      <td>2021-07-08 00:49:00</td>\n",
       "      <td>0.0</td>\n",
       "      <td>1.0</td>\n",
       "    </tr>\n",
       "    <tr>\n",
       "      <th>141169</th>\n",
       "      <td>2021-07-08 00:50:00</td>\n",
       "      <td>0.0</td>\n",
       "      <td>1.0</td>\n",
       "    </tr>\n",
       "    <tr>\n",
       "      <th>141170</th>\n",
       "      <td>2021-07-08 00:51:00</td>\n",
       "      <td>0.0</td>\n",
       "      <td>1.0</td>\n",
       "    </tr>\n",
       "    <tr>\n",
       "      <th>141172</th>\n",
       "      <td>2021-07-08 00:53:00</td>\n",
       "      <td>0.0</td>\n",
       "      <td>1.0</td>\n",
       "    </tr>\n",
       "    <tr>\n",
       "      <th>141173</th>\n",
       "      <td>2021-07-08 00:54:00</td>\n",
       "      <td>0.0</td>\n",
       "      <td>1.0</td>\n",
       "    </tr>\n",
       "    <tr>\n",
       "      <th>141174</th>\n",
       "      <td>2021-07-08 00:55:00</td>\n",
       "      <td>0.0</td>\n",
       "      <td>1.0</td>\n",
       "    </tr>\n",
       "    <tr>\n",
       "      <th>141175</th>\n",
       "      <td>2021-07-08 00:56:00</td>\n",
       "      <td>0.0</td>\n",
       "      <td>1.0</td>\n",
       "    </tr>\n",
       "    <tr>\n",
       "      <th>141176</th>\n",
       "      <td>2021-07-08 00:57:00</td>\n",
       "      <td>0.0</td>\n",
       "      <td>1.0</td>\n",
       "    </tr>\n",
       "    <tr>\n",
       "      <th>141177</th>\n",
       "      <td>2021-07-08 00:58:00</td>\n",
       "      <td>0.0</td>\n",
       "      <td>1.0</td>\n",
       "    </tr>\n",
       "    <tr>\n",
       "      <th>141178</th>\n",
       "      <td>2021-07-08 00:59:00</td>\n",
       "      <td>0.0</td>\n",
       "      <td>1.0</td>\n",
       "    </tr>\n",
       "    <tr>\n",
       "      <th>141179</th>\n",
       "      <td>2021-07-08 01:00:00</td>\n",
       "      <td>0.0</td>\n",
       "      <td>1.0</td>\n",
       "    </tr>\n",
       "    <tr>\n",
       "      <th>141180</th>\n",
       "      <td>2021-07-08 01:01:00</td>\n",
       "      <td>0.0</td>\n",
       "      <td>1.0</td>\n",
       "    </tr>\n",
       "    <tr>\n",
       "      <th>141181</th>\n",
       "      <td>2021-07-08 01:02:00</td>\n",
       "      <td>0.0</td>\n",
       "      <td>1.0</td>\n",
       "    </tr>\n",
       "  </tbody>\n",
       "</table>\n",
       "</div>"
      ],
      "text/plain": [
       "                      time  true  pred\n",
       "141162 2021-07-08 00:43:00   0.0   1.0\n",
       "141166 2021-07-08 00:47:00   0.0   1.0\n",
       "141167 2021-07-08 00:48:00   0.0   1.0\n",
       "141168 2021-07-08 00:49:00   0.0   1.0\n",
       "141169 2021-07-08 00:50:00   0.0   1.0\n",
       "141170 2021-07-08 00:51:00   0.0   1.0\n",
       "141172 2021-07-08 00:53:00   0.0   1.0\n",
       "141173 2021-07-08 00:54:00   0.0   1.0\n",
       "141174 2021-07-08 00:55:00   0.0   1.0\n",
       "141175 2021-07-08 00:56:00   0.0   1.0\n",
       "141176 2021-07-08 00:57:00   0.0   1.0\n",
       "141177 2021-07-08 00:58:00   0.0   1.0\n",
       "141178 2021-07-08 00:59:00   0.0   1.0\n",
       "141179 2021-07-08 01:00:00   0.0   1.0\n",
       "141180 2021-07-08 01:01:00   0.0   1.0\n",
       "141181 2021-07-08 01:02:00   0.0   1.0"
      ]
     },
     "execution_count": 132,
     "metadata": {},
     "output_type": "execute_result"
    }
   ],
   "source": [
    "print('all FP points of date:',list(g.groups.keys())[2])\n",
    "g.get_group(list(g.groups.keys())[2])"
   ]
  },
  {
   "cell_type": "markdown",
   "metadata": {},
   "source": [
    "- 经过分析，我们发现这些点实际上是误报"
   ]
  },
  {
   "cell_type": "markdown",
   "metadata": {},
   "source": [
    "# 测试数据中的假阴性分析"
   ]
  },
  {
   "cell_type": "code",
   "execution_count": 133,
   "metadata": {},
   "outputs": [
    {
     "name": "stdout",
     "output_type": "stream",
     "text": [
      "date of failure: [datetime.date(2021, 7, 25)]\n"
     ]
    },
    {
     "name": "stderr",
     "output_type": "stream",
     "text": [
      "/var/folders/dc/s7qx70fx44l4m7cvndrz2jsh0000gn/T/ipykernel_30637/937714930.py:7: SettingWithCopyWarning: \n",
      "A value is trying to be set on a copy of a slice from a DataFrame.\n",
      "Try using .loc[row_indexer,col_indexer] = value instead\n",
      "\n",
      "See the caveats in the documentation: https://pandas.pydata.org/pandas-docs/stable/user_guide/indexing.html#returning-a-view-versus-a-copy\n",
      "  x['time']=pd.to_datetime(x['time'])\n"
     ]
    }
   ],
   "source": [
    "d=pd.DataFrame() #temp dataframe\n",
    "d['time']=X_test['timestamp']\n",
    "d['true']=y_test\n",
    "d['pred']=clf.predict(X_test[X_train.columns[0:-1]])\n",
    "a=d[d['true']==1]\n",
    "x=a[a['pred']==0]\n",
    "x['time']=pd.to_datetime(x['time'])\n",
    "g=x.groupby(by=x['time'].dt.date)\n",
    "print('date of failure:',list(g.groups.keys())) "
   ]
  },
  {
   "cell_type": "code",
   "execution_count": 134,
   "metadata": {},
   "outputs": [
    {
     "name": "stdout",
     "output_type": "stream",
     "text": [
      "all FN points of date: 2021-07-25\n"
     ]
    },
    {
     "data": {
      "text/html": [
       "<div>\n",
       "<style scoped>\n",
       "    .dataframe tbody tr th:only-of-type {\n",
       "        vertical-align: middle;\n",
       "    }\n",
       "\n",
       "    .dataframe tbody tr th {\n",
       "        vertical-align: top;\n",
       "    }\n",
       "\n",
       "    .dataframe thead th {\n",
       "        text-align: right;\n",
       "    }\n",
       "</style>\n",
       "<table border=\"1\" class=\"dataframe\">\n",
       "  <thead>\n",
       "    <tr style=\"text-align: right;\">\n",
       "      <th></th>\n",
       "      <th>time</th>\n",
       "      <th>true</th>\n",
       "      <th>pred</th>\n",
       "    </tr>\n",
       "  </thead>\n",
       "  <tbody>\n",
       "    <tr>\n",
       "      <th>166420</th>\n",
       "      <td>2021-07-25 13:41:00</td>\n",
       "      <td>1.0</td>\n",
       "      <td>0.0</td>\n",
       "    </tr>\n",
       "    <tr>\n",
       "      <th>166421</th>\n",
       "      <td>2021-07-25 13:42:00</td>\n",
       "      <td>1.0</td>\n",
       "      <td>0.0</td>\n",
       "    </tr>\n",
       "    <tr>\n",
       "      <th>166422</th>\n",
       "      <td>2021-07-25 13:43:00</td>\n",
       "      <td>1.0</td>\n",
       "      <td>0.0</td>\n",
       "    </tr>\n",
       "    <tr>\n",
       "      <th>166423</th>\n",
       "      <td>2021-07-25 13:44:00</td>\n",
       "      <td>1.0</td>\n",
       "      <td>0.0</td>\n",
       "    </tr>\n",
       "    <tr>\n",
       "      <th>166424</th>\n",
       "      <td>2021-07-25 13:45:00</td>\n",
       "      <td>1.0</td>\n",
       "      <td>0.0</td>\n",
       "    </tr>\n",
       "    <tr>\n",
       "      <th>166425</th>\n",
       "      <td>2021-07-25 13:46:00</td>\n",
       "      <td>1.0</td>\n",
       "      <td>0.0</td>\n",
       "    </tr>\n",
       "    <tr>\n",
       "      <th>166426</th>\n",
       "      <td>2021-07-25 13:47:00</td>\n",
       "      <td>1.0</td>\n",
       "      <td>0.0</td>\n",
       "    </tr>\n",
       "    <tr>\n",
       "      <th>166427</th>\n",
       "      <td>2021-07-25 13:48:00</td>\n",
       "      <td>1.0</td>\n",
       "      <td>0.0</td>\n",
       "    </tr>\n",
       "    <tr>\n",
       "      <th>166428</th>\n",
       "      <td>2021-07-25 13:49:00</td>\n",
       "      <td>1.0</td>\n",
       "      <td>0.0</td>\n",
       "    </tr>\n",
       "    <tr>\n",
       "      <th>166429</th>\n",
       "      <td>2021-07-25 13:50:00</td>\n",
       "      <td>1.0</td>\n",
       "      <td>0.0</td>\n",
       "    </tr>\n",
       "    <tr>\n",
       "      <th>166430</th>\n",
       "      <td>2021-07-25 13:51:00</td>\n",
       "      <td>1.0</td>\n",
       "      <td>0.0</td>\n",
       "    </tr>\n",
       "    <tr>\n",
       "      <th>166431</th>\n",
       "      <td>2021-07-25 13:52:00</td>\n",
       "      <td>1.0</td>\n",
       "      <td>0.0</td>\n",
       "    </tr>\n",
       "    <tr>\n",
       "      <th>166432</th>\n",
       "      <td>2021-07-25 13:53:00</td>\n",
       "      <td>1.0</td>\n",
       "      <td>0.0</td>\n",
       "    </tr>\n",
       "    <tr>\n",
       "      <th>166433</th>\n",
       "      <td>2021-07-25 13:54:00</td>\n",
       "      <td>1.0</td>\n",
       "      <td>0.0</td>\n",
       "    </tr>\n",
       "  </tbody>\n",
       "</table>\n",
       "</div>"
      ],
      "text/plain": [
       "                      time  true  pred\n",
       "166420 2021-07-25 13:41:00   1.0   0.0\n",
       "166421 2021-07-25 13:42:00   1.0   0.0\n",
       "166422 2021-07-25 13:43:00   1.0   0.0\n",
       "166423 2021-07-25 13:44:00   1.0   0.0\n",
       "166424 2021-07-25 13:45:00   1.0   0.0\n",
       "166425 2021-07-25 13:46:00   1.0   0.0\n",
       "166426 2021-07-25 13:47:00   1.0   0.0\n",
       "166427 2021-07-25 13:48:00   1.0   0.0\n",
       "166428 2021-07-25 13:49:00   1.0   0.0\n",
       "166429 2021-07-25 13:50:00   1.0   0.0\n",
       "166430 2021-07-25 13:51:00   1.0   0.0\n",
       "166431 2021-07-25 13:52:00   1.0   0.0\n",
       "166432 2021-07-25 13:53:00   1.0   0.0\n",
       "166433 2021-07-25 13:54:00   1.0   0.0"
      ]
     },
     "execution_count": 134,
     "metadata": {},
     "output_type": "execute_result"
    }
   ],
   "source": [
    "print('all FN points of date:',list(g.groups.keys())[0])\n",
    "g.get_group(list(g.groups.keys())[0])"
   ]
  },
  {
   "cell_type": "markdown",
   "metadata": {},
   "source": [
    "- 我们在 2021-07-25 14:00:00 出现故障，应该在 13:55:00 之前预测。\n",
    "- 我们的模型在 13:54:00 之前预测此故障是正常的"
   ]
  },
  {
   "cell_type": "markdown",
   "metadata": {},
   "source": [
    "## 结论\n",
    "\n",
    "#### 我们已经预测了 5 分钟前的所有失败，3 个日期有误报点。 1 在交叉数据集中，2 在测试数据集中。 对于其他误报，我们有正当理由（如机器故障或者数据确实有误），我们的模型对所有数据99%的准确率预测是可信的"
   ]
  },
  {
   "cell_type": "code",
   "execution_count": null,
   "metadata": {},
   "outputs": [],
   "source": []
  },
  {
   "cell_type": "code",
   "execution_count": null,
   "metadata": {},
   "outputs": [],
   "source": []
  }
 ],
 "metadata": {
  "kernelspec": {
   "display_name": "Python 3 (ipykernel)",
   "language": "python",
   "name": "python3"
  },
  "language_info": {
   "codemirror_mode": {
    "name": "ipython",
    "version": 3
   },
   "file_extension": ".py",
   "mimetype": "text/x-python",
   "name": "python",
   "nbconvert_exporter": "python",
   "pygments_lexer": "ipython3",
   "version": "3.8.9"
  }
 },
 "nbformat": 4,
 "nbformat_minor": 4
}
